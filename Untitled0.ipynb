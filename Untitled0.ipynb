{
  "nbformat": 4,
  "nbformat_minor": 0,
  "metadata": {
    "colab": {
      "provenance": [],
      "authorship_tag": "ABX9TyMM0mz0u2wMl1jRRlJmXZnt",
      "include_colab_link": true
    },
    "kernelspec": {
      "name": "python3",
      "display_name": "Python 3"
    },
    "language_info": {
      "name": "python"
    }
  },
  "cells": [
    {
      "cell_type": "markdown",
      "metadata": {
        "id": "view-in-github",
        "colab_type": "text"
      },
      "source": [
        "<a href=\"https://colab.research.google.com/github/StandaTroch/school/blob/main/Untitled0.ipynb\" target=\"_parent\"><img src=\"https://colab.research.google.com/assets/colab-badge.svg\" alt=\"Open In Colab\"/></a>"
      ]
    },
    {
      "cell_type": "code",
      "execution_count": 2,
      "metadata": {
        "colab": {
          "base_uri": "https://localhost:8080/"
        },
        "id": "NkIGBRNPoieD",
        "outputId": "7ac3f23b-d67b-4471-8880-19e27d1a45e1"
      },
      "outputs": [
        {
          "output_type": "stream",
          "name": "stdout",
          "text": [
            "[ -0.  30. 250.]\n",
            "            fun: -8010.0\n",
            "        message: 'Optimization terminated successfully. (HiGHS Status 7: Optimal)'\n",
            " mip_dual_bound: -8010.0\n",
            "        mip_gap: 0.0\n",
            " mip_node_count: 1\n",
            "         status: 0\n",
            "        success: True\n",
            "              x: array([ -0.,  30., 250.])\n"
          ]
        }
      ],
      "source": [
        "# https://docs.scipy.org/doc/scipy/tutorial/index.html\n",
        "import numpy as np\n",
        "from scipy import optimize as op\n",
        "\n",
        "cena_rum = 50000\n",
        "cena_whiskey = 90000\n",
        "\n",
        "dohromady = 500\n",
        "rum_v_ml = 200\n",
        "whiskey_v_ml = dohromady - rum_v_ml\n",
        "\n",
        "zisk_z_rumu = 19\n",
        "zisk_z_whiskey = 17\n",
        "zisk_z_roztoku = 30\n",
        "\n",
        "zisk = -np.array([zisk_z_rumu, zisk_z_whiskey, zisk_z_roztoku])\n",
        "\n",
        "horni_limit = np.array([cena_rum, cena_whiskey, np.inf])\n",
        "spodni_limit = np.array([0,0,0])\n",
        "\n",
        "uloha_A = np.array([[dohromady,0,rum_v_ml],\n",
        "                    [0,dohromady,whiskey_v_ml],\n",
        "                    [1,1,1]])\n",
        "\n",
        "omezeni = op.LinearConstraint(uloha_A, spodni_limit, horni_limit)\n",
        "celociselnost = np.array([1, 1, 1])\n",
        "\n",
        "vysledek = op.milp(c=zisk, constraints=omezeni, integrality=celociselnost)\n",
        "print(vysledek.x)\n",
        "print(vysledek)"
      ]
    }
  ]
}